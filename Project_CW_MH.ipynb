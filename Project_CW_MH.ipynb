{
 "cells": [
  {
   "cell_type": "markdown",
   "id": "16b897e2-07f0-4ea0-83df-b57e83342fb8",
   "metadata": {},
   "source": [
    "# Machine Learning Project: Classification 1\n",
    "Calvin Wong<br>\n",
    "Mohammed Hussain"
   ]
  },
  {
   "cell_type": "code",
   "execution_count": null,
   "id": "792f42dc-882d-4574-a348-e290ef12b6d9",
   "metadata": {},
   "outputs": [],
   "source": [
    "# Useful libraries\n",
    "import pandas as pd\n",
    "import numpy as np\n",
    "import matplotlib.pyplot as plt\n",
    "\n",
    "from sklearn.model_selection import train_test_split\n",
    "from sklearn.preprocessing import StandardScaler, OneHotEncoder, OrdinalEncoder\n",
    "from sklearn.compose import ColumnTransformer\n",
    "\n",
    "from sklearn.tree import DecisionTreeClassifier\n",
    "from sklearn.ensemble import RandomForestClassifier\n",
    "\n",
    "from sklearn.metrics import accuracy_score\n",
    "from sklearn import metrics  \n",
    "from sklearn import tree"
   ]
  },
  {
   "cell_type": "markdown",
   "id": "74097aca-11cd-4bfe-9f8d-e5dea5c8f27a",
   "metadata": {},
   "source": [
    "# Classification"
   ]
  },
  {
   "cell_type": "code",
   "execution_count": null,
   "id": "d8d19b75-917e-46ce-b356-971c92e8246b",
   "metadata": {
    "scrolled": true
   },
   "outputs": [],
   "source": [
    "Test = pd.read_csv(\"TestData1.csv\")\n",
    "Test"
   ]
  },
  {
   "cell_type": "code",
   "execution_count": null,
   "id": "9cb8c9a3-ac53-44cd-a345-317fa53b3d1a",
   "metadata": {
    "scrolled": true
   },
   "outputs": [],
   "source": [
    "Train = pd.read_csv(\"TrainData1.csv\")\n",
    "Train"
   ]
  },
  {
   "cell_type": "code",
   "execution_count": null,
   "id": "51c0577a-b7f6-41ec-bda8-745395e5ee8f",
   "metadata": {
    "scrolled": true
   },
   "outputs": [],
   "source": [
    "Label = pd.read_csv(\"TrainLabel1.csv\")\n",
    "Label"
   ]
  },
  {
   "cell_type": "code",
   "execution_count": null,
   "id": "1638c042-186e-4482-b1f6-00eb91962232",
   "metadata": {},
   "outputs": [],
   "source": [
    "df = pd.concat([Label,Train], axis=1, ignore_index=True)\n",
    "df"
   ]
  },
  {
   "cell_type": "code",
   "execution_count": null,
   "id": "55865b5b-1a68-4faa-b704-a925ee0a3c3d",
   "metadata": {},
   "outputs": [],
   "source": []
  },
  {
   "cell_type": "code",
   "execution_count": null,
   "id": "5d3cf102",
   "metadata": {},
   "outputs": [],
   "source": [
    "Test = pd.read_csv(\"TestData2.csv\")\n",
    "Test"
   ]
  },
  {
   "cell_type": "code",
   "execution_count": null,
   "id": "39b2c2d5",
   "metadata": {},
   "outputs": [],
   "source": [
    "Test = pd.read_csv(\"TrainData2.csv\")\n",
    "Test"
   ]
  },
  {
   "cell_type": "code",
   "execution_count": null,
   "id": "659b7716",
   "metadata": {},
   "outputs": [],
   "source": [
    "Test = pd.read_csv(\"TrainLabel2.csv\")\n",
    "Test"
   ]
  },
  {
   "cell_type": "code",
   "execution_count": null,
   "id": "6f6e2ce3",
   "metadata": {},
   "outputs": [],
   "source": []
  },
  {
   "cell_type": "code",
   "execution_count": null,
   "id": "fe866a6f",
   "metadata": {},
   "outputs": [],
   "source": [
    "Test = pd.read_csv(\"TestData3.csv\")\n",
    "Test"
   ]
  },
  {
   "cell_type": "code",
   "execution_count": null,
   "id": "3a4587ec",
   "metadata": {},
   "outputs": [],
   "source": [
    "Test = pd.read_csv(\"TrainData3.csv\")\n",
    "Test"
   ]
  },
  {
   "cell_type": "code",
   "execution_count": null,
   "id": "9819c787",
   "metadata": {},
   "outputs": [],
   "source": [
    "Test = pd.read_csv(\"TrainLabel3.csv\")"
   ]
  },
  {
   "cell_type": "code",
   "execution_count": null,
   "id": "788c3fc2",
   "metadata": {},
   "outputs": [],
   "source": []
  },
  {
   "cell_type": "code",
   "execution_count": null,
   "id": "e55bde40",
   "metadata": {},
   "outputs": [],
   "source": [
    "Test = pd.read_csv(\"TestData4.csv\")\n",
    "Test"
   ]
  },
  {
   "cell_type": "code",
   "execution_count": null,
   "id": "632c07ca",
   "metadata": {},
   "outputs": [],
   "source": [
    "Test = pd.read_csv(\"TrainData4.csv\")\n",
    "Test"
   ]
  },
  {
   "cell_type": "code",
   "execution_count": null,
   "id": "ec35818d",
   "metadata": {},
   "outputs": [],
   "source": [
    "Test = pd.read_csv(\"TrainLabel4.csv\")\n",
    "Test"
   ]
  },
  {
   "cell_type": "code",
   "execution_count": null,
   "id": "c375c569",
   "metadata": {},
   "outputs": [],
   "source": []
  },
  {
   "cell_type": "code",
   "execution_count": null,
   "id": "f867269e",
   "metadata": {},
   "outputs": [],
   "source": [
    "Test = pd.read_csv(\"TestData5.csv\")\n",
    "Test"
   ]
  },
  {
   "cell_type": "code",
   "execution_count": null,
   "id": "19ea3754",
   "metadata": {},
   "outputs": [],
   "source": [
    "Test = pd.read_csv(\"TrainData5.csv\")\n",
    "Test"
   ]
  },
  {
   "cell_type": "code",
   "execution_count": null,
   "id": "ade3de56",
   "metadata": {},
   "outputs": [],
   "source": [
    "Test = pd.read_csv(\"TrainLabel5.csv\")\n",
    "Test"
   ]
  },
  {
   "cell_type": "code",
   "execution_count": null,
   "id": "5a12180f",
   "metadata": {},
   "outputs": [],
   "source": []
  },
  {
   "cell_type": "code",
   "execution_count": null,
   "id": "0680b1a4",
   "metadata": {},
   "outputs": [],
   "source": [
    "Test = pd.read_csv(\"TestData6.csv\")\n",
    "Test"
   ]
  },
  {
   "cell_type": "code",
   "execution_count": null,
   "id": "1e54f3e0",
   "metadata": {},
   "outputs": [],
   "source": [
    "Test = pd.read_csv(\"TrainData6.csv\")\n",
    "Test"
   ]
  },
  {
   "cell_type": "code",
   "execution_count": null,
   "id": "74637c43",
   "metadata": {},
   "outputs": [],
   "source": [
    "Test = pd.read_csv(\"TrainLabel6.csv\")\n",
    "Test"
   ]
  },
  {
   "cell_type": "markdown",
   "id": "8a961935-1ff4-4f0e-baf7-5581f8ee184b",
   "metadata": {},
   "source": [
    "# Missing Value Estimation"
   ]
  },
  {
   "cell_type": "code",
   "execution_count": null,
   "id": "461b268e-ee43-4843-993f-cb6850a9dead",
   "metadata": {},
   "outputs": [],
   "source": []
  }
 ],
 "metadata": {
  "kernelspec": {
   "display_name": "Python 3",
   "language": "python",
   "name": "python3"
  },
  "language_info": {
   "codemirror_mode": {
    "name": "ipython",
    "version": 3
   },
   "file_extension": ".py",
   "mimetype": "text/x-python",
   "name": "python",
   "nbconvert_exporter": "python",
   "pygments_lexer": "ipython3",
   "version": "3.12.4"
  }
 },
 "nbformat": 4,
 "nbformat_minor": 5
}
