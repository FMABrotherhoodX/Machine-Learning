{
 "cells": [
  {
   "cell_type": "markdown",
   "id": "16b897e2-07f0-4ea0-83df-b57e83342fb8",
   "metadata": {},
   "source": [
    "# Machine Learning Project \n",
    "Calvin Wong<br>\n",
    "Mohammed Hussain"
   ]
  },
  {
   "cell_type": "code",
   "execution_count": 1,
   "id": "792f42dc-882d-4574-a348-e290ef12b6d9",
   "metadata": {},
   "outputs": [],
   "source": [
    "# Useful libraries\n",
    "import pandas as pd\n",
    "import numpy as np\n",
    "import matplotlib.pyplot as plt\n",
    "\n",
    "from sklearn.model_selection import train_test_split\n",
    "from sklearn.preprocessing import StandardScaler, OneHotEncoder, OrdinalEncoder\n",
    "from sklearn.compose import ColumnTransformer\n",
    "\n",
    "from sklearn.tree import DecisionTreeClassifier\n",
    "from sklearn.ensemble import RandomForestClassifier\n",
    "\n",
    "from sklearn.metrics import accuracy_score\n",
    "from sklearn import metrics  \n",
    "from sklearn import tree"
   ]
  },
  {
   "cell_type": "markdown",
   "id": "74097aca-11cd-4bfe-9f8d-e5dea5c8f27a",
   "metadata": {},
   "source": [
    "# Classification"
   ]
  },
  {
   "cell_type": "markdown",
   "id": "2e8bdd88-7ff4-4c59-9b83-95b4a0562205",
   "metadata": {},
   "source": [
    "df1 = pd.read_csv(\"Test_Data1.csv\")\n"
   ]
  },
  {
   "cell_type": "markdown",
   "id": "8a961935-1ff4-4f0e-baf7-5581f8ee184b",
   "metadata": {},
   "source": [
    "# Missing Value Estimation"
   ]
  },
  {
   "cell_type": "code",
   "execution_count": null,
   "id": "461b268e-ee43-4843-993f-cb6850a9dead",
   "metadata": {},
   "outputs": [],
   "source": []
  }
 ],
 "metadata": {
  "kernelspec": {
   "display_name": "Python 3 (ipykernel)",
   "language": "python",
   "name": "python3"
  },
  "language_info": {
   "codemirror_mode": {
    "name": "ipython",
    "version": 3
   },
   "file_extension": ".py",
   "mimetype": "text/x-python",
   "name": "python",
   "nbconvert_exporter": "python",
   "pygments_lexer": "ipython3",
   "version": "3.12.7"
  }
 },
 "nbformat": 4,
 "nbformat_minor": 5
}
